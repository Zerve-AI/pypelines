{
 "cells": [
  {
   "cell_type": "code",
   "execution_count": null,
   "metadata": {},
   "outputs": [],
   "source": [
    "import pypelines.supervised_pipeline as pipe\n",
    "from pypelines import utils"
   ]
  },
  {
   "attachments": {},
   "cell_type": "markdown",
   "metadata": {},
   "source": [
    "### regression"
   ]
  },
  {
   "cell_type": "code",
   "execution_count": null,
   "metadata": {},
   "outputs": [],
   "source": [
    "utils.list_supported_models(model_type='regression')"
   ]
  },
  {
   "cell_type": "code",
   "execution_count": null,
   "metadata": {},
   "outputs": [],
   "source": [
    "import pandas as pd\n",
    "housing = pd.read_csv(\"pypelines/datasets/regression/housing.csv\")"
   ]
  },
  {
   "attachments": {},
   "cell_type": "markdown",
   "metadata": {},
   "source": [
    "### regression - all models"
   ]
  },
  {
   "cell_type": "code",
   "execution_count": null,
   "metadata": {},
   "outputs": [],
   "source": [
    "reg_pypelines_all = pipe.SupervisedPipeline(data = housing,target = 'median_house_value'\n",
    "                            , model_type = 'regression'\n",
    "                            , models = ['Linear Regression','Lasso Regression']\n",
    "                            , nfolds = 5)"
   ]
  },
  {
   "cell_type": "code",
   "execution_count": null,
   "metadata": {},
   "outputs": [],
   "source": [
    "reg_pypelines_all.get_hyperparameters()"
   ]
  },
  {
   "cell_type": "code",
   "execution_count": null,
   "metadata": {},
   "outputs": [],
   "source": [
    "reg_pypelines_all.model_list()"
   ]
  },
  {
   "cell_type": "code",
   "execution_count": null,
   "metadata": {},
   "outputs": [],
   "source": [
    "reg_pypelines_all.code_to_file(path = 'code_output/')"
   ]
  },
  {
   "cell_type": "code",
   "execution_count": null,
   "metadata": {},
   "outputs": [],
   "source": [
    "reg_pypelines_all.code_to_clipboard()"
   ]
  },
  {
   "cell_type": "code",
   "execution_count": null,
   "metadata": {},
   "outputs": [],
   "source": [
    "\n",
    "from sklearn.model_selection import GridSearchCV\n",
    "from sklearn.metrics import mean_squared_error\n",
    "\n",
    "\n",
    "import pandas as pd\n",
    "import numpy as np\n",
    "from sklearn.compose import ColumnTransformer\n",
    "from sklearn.preprocessing import StandardScaler, OneHotEncoder\n",
    "from sklearn.feature_extraction.text import TfidfVectorizer\n",
    "from sklearn.model_selection import train_test_split\n",
    "from sklearn.pipeline import Pipeline\n",
    "from sklearn.impute import SimpleImputer\n",
    "\n",
    "\n",
    "# target dataframe: housing\n",
    "target = \"median_house_value\"\n",
    "features = list(housing.columns.drop(\"median_house_value\"))\n",
    "feature_df = housing[features]\n",
    "\n",
    "# get numerical and categorical columns\n",
    "bool_cols = feature_df.select_dtypes(include=['bool']).columns.tolist()\n",
    "housing[bool_cols] = feature_df[bool_cols].astype(int)\n",
    "numerical_cols = feature_df.select_dtypes(include=['int', 'float']).columns.tolist()\n",
    "categorical_cols = feature_df.select_dtypes(include=['object']).columns.tolist()\n",
    "text_cols = feature_df.select_dtypes(include=['string']).columns.tolist()\n",
    "\n",
    "\n",
    "sample_size = np.min([10000, housing.shape[0]])\n",
    "unique_theshold = np.min([100, sample_size/10])\n",
    "\n",
    "# check categorical columns for high cardinality and make it text column\n",
    "for col in categorical_cols:\n",
    "    if housing[col].sample(sample_size).nunique() > unique_theshold:\n",
    "        text_cols.append(col)\n",
    "        categorical_cols.remove(col)\n",
    "        \n",
    "\n",
    "# check text columns for low cardinality and make it categorical columns\n",
    "for col in text_cols:\n",
    "    if housing[col].sample(sample_size).nunique() < unique_theshold:\n",
    "        categorical_cols.append(col)\n",
    "        text_cols.remove(col)\n",
    "\n",
    "print(numerical_cols)\n",
    "print(categorical_cols)\n",
    "print(text_cols)\n",
    "\n",
    "# define numeric transformer steps\n",
    "numeric_transformer = Pipeline(\n",
    "    steps=[\n",
    "        (\"imputer\", SimpleImputer(strategy=\"median\")), \n",
    "        (\"scaler\", StandardScaler())]\n",
    ")\n",
    "\n",
    "# define categorical transformer steps\n",
    "categorical_transformer = Pipeline(\n",
    "    steps=[\n",
    "        (\"imputer\", SimpleImputer(strategy=\"most_frequent\")), \n",
    "        (\"encoder\", OneHotEncoder(handle_unknown=\"ignore\"))\n",
    "    ]\n",
    ")\n",
    "\n",
    "# define text transformer steps\n",
    "text_transformer = Pipeline(\n",
    "    steps=[\n",
    "        ('text', TfidfVectorizer())\n",
    "    ]\n",
    ")\n",
    "\n",
    "# create the preprocessing pipelines for both numeric and categorical data\n",
    "preprocessor = ColumnTransformer(\n",
    "        transformers=[('num', numeric_transformer , numerical_cols),\n",
    "        ('cat', categorical_transformer, categorical_cols),\n",
    "        *[(f'text_{t_col}', text_transformer, t_col) for t_col in text_cols]]\n",
    ")\n",
    "\n",
    "# train test split\n",
    "X = housing[features]\n",
    "y = housing[target]\n",
    "X_train, X_test, y_train, y_test = train_test_split(X, y, test_size=0.2, random_state=42)\n",
    "\n",
    "model_comparison_list = []\n",
    "\n",
    "##### End of Data Processing Pipeline #####\n",
    "\n",
    "\n",
    "##### Model Pipeline for Linear Regression #####\n",
    "\n",
    "from sklearn.linear_model import LinearRegression\n",
    "from sklearn.metrics import mean_squared_error,make_scorer,r2_score,explained_variance_score\n",
    "import plotly.express as px\n",
    "import plotly.graph_objects as go\n",
    "import matplotlib.pyplot as plt\n",
    "lin_reg_param_grid = {\n",
    "}\n",
    "\n",
    "\n",
    "# Create the pipeline\n",
    "lin_reg_pipe = Pipeline([\n",
    "    ('preprocessor', preprocessor),\n",
    "    ('lin_reg', LinearRegression())\n",
    "])\n",
    "\n",
    "# Create the grid search\n",
    "lin_reg_grid_search = GridSearchCV(estimator=lin_reg_pipe, param_grid=lin_reg_param_grid, cv=5, scoring=make_scorer(mean_squared_error), verbose=1)\n",
    "lin_reg_grid_search.fit(X_train, y_train)\n",
    "\n",
    "# Get the best hyperparameters\n",
    "lin_reg_best_estimator = lin_reg_grid_search.best_estimator_\n",
    "\n",
    "# Store results as a dataframe  \n",
    "lin_reg_search_results = pd.DataFrame(lin_reg_grid_search.cv_results_)\n",
    "\n",
    "# Model metrics\n",
    "\n",
    "# Generate Predictions\n",
    "lin_reg_predictions = pd.DataFrame(lin_reg_best_estimator.predict(X_test))\n",
    "\n",
    "# Generate Model Metrics\n",
    "lin_reg_r2_score = r2_score(y_test, lin_reg_predictions.iloc[:,0])\n",
    "lin_reg_mean_squared_error = mean_squared_error(y_test, lin_reg_predictions.iloc[:,0])\n",
    "lin_reg_explained_variance_score = explained_variance_score(y_test, lin_reg_predictions.iloc[:,0])\n",
    "lin_reg_performance_metrics = [['lin_reg','r2_score', lin_reg_r2_score], \n",
    "                                  ['lin_reg','mean_squared_error',lin_reg_mean_squared_error],\n",
    "                                  ['lin_reg','explained_variance_score', lin_reg_explained_variance_score]]\n",
    "lin_reg_performance_metrics = pd.DataFrame(lin_reg_performance_metrics, columns=['model','metric', 'value'])\n",
    "\n",
    "# Generate Actual vs Predicted Plot\n",
    "lin_reg_actual_predicted_plot, lin_reg_actual_predicted_plot_ax = plt.subplots()\n",
    "lin_reg_actual_predicted_plot = lin_reg_actual_predicted_plot_ax.scatter(x=y_test, y=lin_reg_predictions.iloc[:,0], alpha=0.5)\n",
    "# Add diagonal line\n",
    "lin_reg_actual_predicted_plot_ax.plot([y_test.min(), y_test.max()], [y_test.min(), y_test.max()], 'r--', alpha=0.5)\n",
    "# Set axis labels and title\n",
    "lin_reg_actual_predicted_plot_ax.set_xlabel('Actual')\n",
    "lin_reg_actual_predicted_plot_ax.set_ylabel('Predicted')\n",
    "lin_reg_actual_predicted_plot_ax.set_title(f'lin_reg_Actual vs. Predicted')\n",
    "\n",
    "# Generate Decile Lift Chart\n",
    "\n",
    "print(lin_reg_performance_metrics[lin_reg_performance_metrics['metric'] == 'r2_score'])\n",
    "\n",
    "plt.show(block=False)\n",
    "\n",
    "\n",
    "\n",
    "model_comparison_list.append(lin_reg_performance_metrics)\n",
    "##### Model Pipeline for Lasso Regression #####\n",
    "\n",
    "from sklearn.linear_model import Lasso\n",
    "from sklearn.metrics import mean_squared_error,make_scorer,r2_score,explained_variance_score\n",
    "import matplotlib.pyplot as plt\n",
    "lasso_regression_param_grid = {\n",
    "\"lasso_regression__alpha\": np.arange(0.0, 2.0, 0.5),\n",
    "}\n",
    "\n",
    "\n",
    "# Create the pipeline\n",
    "lasso_regression_pipe = Pipeline([\n",
    "    ('preprocessor', preprocessor),\n",
    "    ('lasso_regression', Lasso())\n",
    "])\n",
    "\n",
    "# Create the grid search\n",
    "lasso_regression_grid_search = GridSearchCV(estimator=lasso_regression_pipe, param_grid=lasso_regression_param_grid, cv=5, scoring=make_scorer(mean_squared_error), verbose=1)\n",
    "lasso_regression_grid_search.fit(X_train, y_train)\n",
    "\n",
    "# Get the best hyperparameters\n",
    "lasso_regression_best_estimator = lasso_regression_grid_search.best_estimator_\n",
    "\n",
    "# Store results as a dataframe  \n",
    "lasso_regression_search_results = pd.DataFrame(lasso_regression_grid_search.cv_results_)\n",
    "\n",
    "# Model metrics\n",
    "\n",
    "# Generate Predictions\n",
    "lasso_regression_predictions = pd.DataFrame(lasso_regression_best_estimator.predict(X_test))\n",
    "\n",
    "# Generate Model Metrics\n",
    "lasso_regression_r2_score = r2_score(y_test, lasso_regression_predictions.iloc[:,0])\n",
    "lasso_regression_mean_squared_error = mean_squared_error(y_test, lasso_regression_predictions.iloc[:,0])\n",
    "lasso_regression_explained_variance_score = explained_variance_score(y_test, lasso_regression_predictions.iloc[:,0])\n",
    "lasso_regression_performance_metrics = [['lasso_regression','r2_score', lasso_regression_r2_score], \n",
    "                                  ['lasso_regression','mean_squared_error',lasso_regression_mean_squared_error],\n",
    "                                  ['lasso_regression','explained_variance_score', lasso_regression_explained_variance_score]]\n",
    "lasso_regression_performance_metrics = pd.DataFrame(lasso_regression_performance_metrics, columns=['model','metric', 'value'])\n",
    "\n",
    "# Generate Actual vs Predicted Plot\n",
    "lasso_regression_actual_predicted_plot, lasso_regression_actual_predicted_plot_ax = plt.subplots()\n",
    "lasso_regression_actual_predicted_plot = lasso_regression_actual_predicted_plot_ax.scatter(x=y_test, y=lasso_regression_predictions.iloc[:,0], alpha=0.5)\n",
    "# Add diagonal line\n",
    "lasso_regression_actual_predicted_plot_ax.plot([y_test.min(), y_test.max()], [y_test.min(), y_test.max()], 'r--', alpha=0.5)\n",
    "# Set axis labels and title\n",
    "lasso_regression_actual_predicted_plot_ax.set_xlabel('Actual')\n",
    "lasso_regression_actual_predicted_plot_ax.set_ylabel('Predicted')\n",
    "lasso_regression_actual_predicted_plot_ax.set_title(f'lasso_regression_Actual vs. Predicted')\n",
    "\n",
    "# Generate Decile Lift Chart\n",
    "\n",
    "print(lasso_regression_performance_metrics[lasso_regression_performance_metrics['metric'] == 'r2_score'])\n",
    "\n",
    "plt.show(block=False)\n",
    "\n",
    "\n",
    "\n",
    "model_comparison_list.append(lasso_regression_performance_metrics)\n",
    "##### Model Metrics Lasso Regression #####\n",
    "\n",
    "table = pd.concat(model_comparison_list)\n",
    "table = table.sort_values(by=['value'], ascending=False)\n",
    "table = table[table['metric'] == 'r2_score']\n",
    "print(table)\n",
    "f\"The best model is {table['model'].iloc[0]} with {table['value'].iloc[0]} as {table['metric'].iloc[0]}\" \n",
    "\n",
    "\n",
    "##### End of Model Pipeline for Lasso Regression #####"
   ]
  },
  {
   "attachments": {},
   "cell_type": "markdown",
   "metadata": {},
   "source": [
    "### classification"
   ]
  },
  {
   "cell_type": "code",
   "execution_count": null,
   "metadata": {},
   "outputs": [],
   "source": [
    "titanic = pd.read_csv(\"pypelines/datasets/classification/titanic.csv\")"
   ]
  },
  {
   "cell_type": "code",
   "execution_count": null,
   "metadata": {},
   "outputs": [],
   "source": [
    "# code output\n",
    "clf_pypelines_all = pipe.SupervisedPipeline(data = titanic,target = 'Survived'\n",
    "                            , model_type = 'classification'\n",
    "                            , models = ['Logistic Regression',\n",
    "                                        'Random Forest Classifier']\n",
    "                            , nfolds = 5)"
   ]
  },
  {
   "cell_type": "code",
   "execution_count": null,
   "metadata": {},
   "outputs": [],
   "source": [
    "clf_pypelines_all.get_hyperparameters()"
   ]
  },
  {
   "cell_type": "code",
   "execution_count": null,
   "metadata": {},
   "outputs": [],
   "source": [
    "clf_pypelines_all.code_to_clipboard()"
   ]
  },
  {
   "attachments": {},
   "cell_type": "markdown",
   "metadata": {},
   "source": [
    "### classification - all models"
   ]
  },
  {
   "attachments": {},
   "cell_type": "markdown",
   "metadata": {},
   "source": [
    "### Update grid search for a model"
   ]
  },
  {
   "cell_type": "code",
   "execution_count": null,
   "metadata": {},
   "outputs": [],
   "source": [
    "clf_pypelines_all.model_grid_search_settings(model_name=\"Random Forest Classifier\")"
   ]
  },
  {
   "cell_type": "code",
   "execution_count": null,
   "metadata": {},
   "outputs": [],
   "source": [
    "rf_updated_dict = {'numerical': [{'search': True,\n",
    "   'name': 'n_estimators',\n",
    "   'min': 100,\n",
    "   'max': 1000,\n",
    "   'step': 20},\n",
    "  {'search': True, 'name': 'max_depth', 'min': 2, 'max': 10, 'step': 2},\n",
    "  {'search': True,\n",
    "   'name': 'min_samples_split',\n",
    "   'min': 0.50,\n",
    "   'max': 1,\n",
    "   'step': 0.1},\n",
    "  {'search': True,\n",
    "   'name': 'min_samples_leaf',\n",
    "   'min': 1,\n",
    "   'max': 10,\n",
    "   'step': 2}],\n",
    " 'categorical': [{'search': False,\n",
    "   'name': 'criterion',\n",
    "   'selected': ['gini'],\n",
    "   'values': ['gini', 'entropy']},\n",
    "  {'search': False,\n",
    "   'name': 'max_features',\n",
    "   'selected': ['sqrt'],\n",
    "   'values': ['auto', 'sqrt', 'log2']},\n",
    "  {'search': False,\n",
    "   'name': 'bootstrap',\n",
    "   'selected': [True],\n",
    "   'values': [True, False]},\n",
    "  {'search': True,\n",
    "   'name': 'oob_score',\n",
    "   'selected': [True],\n",
    "   'values': [True, False]},\n",
    "  {'search': False,\n",
    "   'name': 'warm_start',\n",
    "   'selected': [False],\n",
    "   'values': [True, False]},\n",
    "  {'search': False,\n",
    "   'name': 'class_weight',\n",
    "   'selected': ['balanced'],\n",
    "   'values': ['balanced', 'balanced_subsample']}]}"
   ]
  },
  {
   "cell_type": "code",
   "execution_count": null,
   "metadata": {},
   "outputs": [],
   "source": [
    "# Example list of dictionaries\n",
    "dict_list = [rf_updated_dict]\n",
    "\n",
    "# Loop through each dictionary in the list\n",
    "for i, rf_dict in enumerate(dict_list):\n",
    "    # Format the dictionary\n",
    "    formatted_dict = {\n",
    "        'numerical': [\n",
    "            {'search': param['search'], 'name': param['name'], 'min': param['min'], 'max': param['max'], 'step': param['step']}\n",
    "            for param in rf_dict['numerical']\n",
    "        ],\n",
    "        'categorical': [\n",
    "            {'search': param['search'], 'name': param['name'], 'selected': param['selected'], 'values': param['values']}\n",
    "            for param in rf_dict['categorical']\n",
    "        ]\n",
    "    }\n",
    "    # Replace the original dictionary with the formatted one\n",
    "    dict_list[i] = formatted_dict\n"
   ]
  },
  {
   "cell_type": "code",
   "execution_count": null,
   "metadata": {},
   "outputs": [],
   "source": [
    "clf_pypelines_all.set_model_grid_search_settings(hyperparam_dict=rf_updated_dict,model_name = 'Random Forest Classifier')"
   ]
  },
  {
   "cell_type": "code",
   "execution_count": null,
   "metadata": {},
   "outputs": [],
   "source": [
    "from jinja2 import Template\n",
    "t = Template(\"Hello {{ token }}!\")\n",
    "#t.render(token=\"Jinja2\")\n",
    "\n",
    "\n",
    "d = Template(\"\"\"\n",
    "print({{prefix}}_performance_metrics) \n",
    "plt.show(block=False)\n",
    "\"\"\")\n",
    "\n",
    "d.render()"
   ]
  }
 ],
 "metadata": {
  "kernelspec": {
   "display_name": "Python 3",
   "language": "python",
   "name": "python3"
  },
  "language_info": {
   "codemirror_mode": {
    "name": "ipython",
    "version": 3
   },
   "file_extension": ".py",
   "mimetype": "text/x-python",
   "name": "python",
   "nbconvert_exporter": "python",
   "pygments_lexer": "ipython3",
   "version": "3.9.16"
  }
 },
 "nbformat": 4,
 "nbformat_minor": 4
}
