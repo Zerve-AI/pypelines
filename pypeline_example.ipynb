{
 "cells": [
  {
   "cell_type": "code",
   "execution_count": 1,
   "metadata": {},
   "outputs": [],
   "source": [
    "import pandas as pd"
   ]
  },
  {
   "cell_type": "code",
   "execution_count": 2,
   "metadata": {},
   "outputs": [],
   "source": [
    "from sktime.classification.deep_learning.cnn import CNNClassifier\n",
    "from sktime.datasets import load_unit_test\n",
    "df_train, df_train_y= load_unit_test(split=\"train\")\n",
    "df_test, df_test_y = load_unit_test(split=\"test\")\n"
   ]
  },
  {
   "cell_type": "code",
   "execution_count": 3,
   "metadata": {},
   "outputs": [],
   "source": [
    "df_train['class']=df_train_y\n",
    "df_test['class']=df_test_y"
   ]
  },
  {
   "cell_type": "code",
   "execution_count": 4,
   "metadata": {},
   "outputs": [],
   "source": [
    "from pypelines import ts_classification_pipeline as pipe"
   ]
  },
  {
   "cell_type": "code",
   "execution_count": 5,
   "metadata": {},
   "outputs": [],
   "source": [
    "tsc = pipe.TSClassificationPipeline(data=df_train,\n",
    "                                    target_column='class',\n",
    "                                    models=['MLP'],\n",
    "                                    test_data=df_test,positive_class='2')\n"
   ]
  },
  {
   "cell_type": "code",
   "execution_count": 6,
   "metadata": {},
   "outputs": [],
   "source": [
    "tsc.code_to_clipboard()"
   ]
  },
  {
   "cell_type": "code",
   "execution_count": 8,
   "metadata": {},
   "outputs": [
    {
     "name": "stdout",
     "output_type": "stream",
     "text": [
      "Fitting 3 folds for each of 2 candidates, totalling 6 fits\n"
     ]
    },
    {
     "name": "stderr",
     "output_type": "stream",
     "text": [
      "/Library/Frameworks/Python.framework/Versions/3.9/lib/python3.9/site-packages/sklearn/preprocessing/_encoders.py:868: FutureWarning: `sparse` was renamed to `sparse_output` in version 1.2 and will be removed in 1.4. `sparse_output` is ignored unless you leave `sparse` to its default value.\n",
      "  warnings.warn(\n"
     ]
    },
    {
     "name": "stdout",
     "output_type": "stream",
     "text": [
      "1/1 [==============================] - 0s 67ms/step\n",
      "[CV 1/3] END ......................n_epochs=100;, score=1.000 total time=   2.1s\n"
     ]
    },
    {
     "name": "stderr",
     "output_type": "stream",
     "text": [
      "/Library/Frameworks/Python.framework/Versions/3.9/lib/python3.9/site-packages/sklearn/preprocessing/_encoders.py:868: FutureWarning: `sparse` was renamed to `sparse_output` in version 1.2 and will be removed in 1.4. `sparse_output` is ignored unless you leave `sparse` to its default value.\n",
      "  warnings.warn(\n"
     ]
    },
    {
     "name": "stdout",
     "output_type": "stream",
     "text": [
      "WARNING:tensorflow:5 out of the last 5 calls to <function Model.make_predict_function.<locals>.predict_function at 0x7fc509b1cc10> triggered tf.function retracing. Tracing is expensive and the excessive number of tracings could be due to (1) creating @tf.function repeatedly in a loop, (2) passing tensors with different shapes, (3) passing Python objects instead of tensors. For (1), please define your @tf.function outside of the loop. For (2), @tf.function has reduce_retracing=True option that can avoid unnecessary retracing. For (3), please refer to https://www.tensorflow.org/guide/function#controlling_retracing and https://www.tensorflow.org/api_docs/python/tf/function for  more details.\n",
      "1/1 [==============================] - 0s 69ms/step\n",
      "[CV 2/3] END ......................n_epochs=100;, score=1.000 total time=   1.8s\n"
     ]
    },
    {
     "name": "stderr",
     "output_type": "stream",
     "text": [
      "/Library/Frameworks/Python.framework/Versions/3.9/lib/python3.9/site-packages/sklearn/preprocessing/_encoders.py:868: FutureWarning: `sparse` was renamed to `sparse_output` in version 1.2 and will be removed in 1.4. `sparse_output` is ignored unless you leave `sparse` to its default value.\n",
      "  warnings.warn(\n"
     ]
    },
    {
     "name": "stdout",
     "output_type": "stream",
     "text": [
      "WARNING:tensorflow:6 out of the last 6 calls to <function Model.make_predict_function.<locals>.predict_function at 0x7fc539fb88b0> triggered tf.function retracing. Tracing is expensive and the excessive number of tracings could be due to (1) creating @tf.function repeatedly in a loop, (2) passing tensors with different shapes, (3) passing Python objects instead of tensors. For (1), please define your @tf.function outside of the loop. For (2), @tf.function has reduce_retracing=True option that can avoid unnecessary retracing. For (3), please refer to https://www.tensorflow.org/guide/function#controlling_retracing and https://www.tensorflow.org/api_docs/python/tf/function for  more details.\n",
      "1/1 [==============================] - 0s 69ms/step\n",
      "[CV 3/3] END ......................n_epochs=100;, score=1.000 total time=   1.9s\n"
     ]
    },
    {
     "name": "stderr",
     "output_type": "stream",
     "text": [
      "/Library/Frameworks/Python.framework/Versions/3.9/lib/python3.9/site-packages/sklearn/preprocessing/_encoders.py:868: FutureWarning: `sparse` was renamed to `sparse_output` in version 1.2 and will be removed in 1.4. `sparse_output` is ignored unless you leave `sparse` to its default value.\n",
      "  warnings.warn(\n"
     ]
    },
    {
     "name": "stdout",
     "output_type": "stream",
     "text": [
      "1/1 [==============================] - 0s 72ms/step\n",
      "[CV 1/3] END .....................n_epochs=1100;, score=1.000 total time=  11.0s\n"
     ]
    },
    {
     "name": "stderr",
     "output_type": "stream",
     "text": [
      "/Library/Frameworks/Python.framework/Versions/3.9/lib/python3.9/site-packages/sklearn/preprocessing/_encoders.py:868: FutureWarning: `sparse` was renamed to `sparse_output` in version 1.2 and will be removed in 1.4. `sparse_output` is ignored unless you leave `sparse` to its default value.\n",
      "  warnings.warn(\n"
     ]
    },
    {
     "name": "stdout",
     "output_type": "stream",
     "text": [
      "1/1 [==============================] - 0s 73ms/step\n",
      "[CV 2/3] END .....................n_epochs=1100;, score=0.857 total time=  13.2s\n"
     ]
    },
    {
     "name": "stderr",
     "output_type": "stream",
     "text": [
      "/Library/Frameworks/Python.framework/Versions/3.9/lib/python3.9/site-packages/sklearn/preprocessing/_encoders.py:868: FutureWarning: `sparse` was renamed to `sparse_output` in version 1.2 and will be removed in 1.4. `sparse_output` is ignored unless you leave `sparse` to its default value.\n",
      "  warnings.warn(\n"
     ]
    },
    {
     "name": "stdout",
     "output_type": "stream",
     "text": [
      "1/1 [==============================] - 0s 66ms/step\n",
      "[CV 3/3] END .....................n_epochs=1100;, score=1.000 total time=  12.8s\n"
     ]
    },
    {
     "name": "stderr",
     "output_type": "stream",
     "text": [
      "/Library/Frameworks/Python.framework/Versions/3.9/lib/python3.9/site-packages/sklearn/preprocessing/_encoders.py:868: FutureWarning: `sparse` was renamed to `sparse_output` in version 1.2 and will be removed in 1.4. `sparse_output` is ignored unless you leave `sparse` to its default value.\n",
      "  warnings.warn(\n"
     ]
    },
    {
     "name": "stdout",
     "output_type": "stream",
     "text": [
      "2/2 [==============================] - 0s 8ms/step\n",
      "2/2 [==============================] - 0s 8ms/step\n",
      "           model         metric     value\n",
      "4  MLPClassifier  roc_auc_score  0.916667\n",
      "           model         metric     value\n",
      "4  MLPClassifier  roc_auc_score  0.916667\n",
      "The best model is MLPClassifier with 0.9166666666666666 as roc_auc_score\n",
      "2/2 [==============================] - 0s 3ms/step\n",
      "Predictions from best model are stored in test_predictions\n"
     ]
    },
    {
     "data": {
      "image/png": "[encoded data removed]",
      "text/plain": [
       "<Figure size 640x480 with 1 Axes>"
      ]
     },
     "metadata": {},
     "output_type": "display_data"
    }
   ],
   "source": [
    "\n",
    "from sktime import *\n",
    "from sklearn.metrics import accuracy_score\n",
    "\n",
    "\n",
    "import pandas as pd\n",
    "import numpy as np\n",
    "\n",
    "\n",
    "# target dataframe: df_train\n",
    "target = \"class\"\n",
    "features = list(df_train.columns.drop(\"class\"))\n",
    "\n",
    "# train test split\n",
    "X_train = df_train[features]\n",
    "y_train = df_train[target]\n",
    "\n",
    "X_test = df_test[features]\n",
    "y_test = df_test[target]\n",
    "\n",
    "model_comparison_list = []\n",
    "\n",
    "##### End of Data Processing Pipeline #####\n",
    "\n",
    "\n",
    "##### Model Pipeline for MLP #####\n",
    "\n",
    "from sktime.classification.deep_learning.mlp import MLPClassifier\n",
    "from sklearn.model_selection import GridSearchCV\n",
    "from sklearn.metrics import accuracy_score,make_scorer,f1_score,precision_score,recall_score,roc_auc_score,roc_curve,auc\n",
    "import matplotlib.pyplot as plt\n",
    "MLPClassifier_param_grid = {\n",
    "\"n_epochs\": np.arange(100, 2000, 1000),\n",
    "}\n",
    "\n",
    "MLPClassifier_model = MLPClassifier()\n",
    "\n",
    "# Create the grid search\n",
    "MLPClassifier_grid_search = GridSearchCV(estimator=MLPClassifier_model, param_grid=MLPClassifier_param_grid, cv=3, scoring=make_scorer(accuracy_score), verbose=3)\n",
    "MLPClassifier_grid_search.fit(X_train, y_train)\n",
    "\n",
    "# Get the best hyperparameters\n",
    "MLPClassifier_best_estimator = MLPClassifier_grid_search.best_estimator_\n",
    "\n",
    "# Store results as a dataframe  \n",
    "MLPClassifier_search_results = pd.DataFrame(MLPClassifier_grid_search.cv_results_)\n",
    "\n",
    "# Generate Predictions\n",
    "MLPClassifier_predictions = pd.DataFrame(MLPClassifier_best_estimator.predict(X_test))\n",
    "MLPClassifier_predictions_prob = MLPClassifier_best_estimator.predict_proba(X_test)\n",
    "MLPClassifier_predictions_prob_df = pd.DataFrame()\n",
    "MLPClassifier_predictions_prob_df[MLPClassifier_grid_search.classes_[0]] = MLPClassifier_predictions_prob[:,0]\n",
    "MLPClassifier_predictions_prob_df[MLPClassifier_grid_search.classes_[1]] = MLPClassifier_predictions_prob[:,1] \n",
    "\n",
    "\n",
    "# Generate Model Metrics\n",
    "MLPClassifier_accuracy = accuracy_score(y_test, MLPClassifier_predictions.iloc[:,0])\n",
    "MLPClassifier_f1_score = f1_score(y_test, MLPClassifier_predictions.iloc[:,0],pos_label='2')\n",
    "MLPClassifier_precision = precision_score(y_test, MLPClassifier_predictions.iloc[:,0],pos_label='2')\n",
    "MLPClassifier_recall = recall_score(y_test, MLPClassifier_predictions.iloc[:,0],pos_label='2')\n",
    "MLPClassifier_roc_auc_score = roc_auc_score(y_test, MLPClassifier_predictions_prob_df[MLPClassifier_grid_search.classes_[1]])\n",
    "MLPClassifier_performance_metrics = [['MLPClassifier','accuracy',MLPClassifier_accuracy], \n",
    "                                  ['MLPClassifier','f1_score',MLPClassifier_f1_score],\n",
    "                                  ['MLPClassifier','precision', MLPClassifier_precision],\n",
    "                                  ['MLPClassifier','recall', MLPClassifier_recall],\n",
    "                                  ['MLPClassifier','roc_auc_score', MLPClassifier_roc_auc_score]]\n",
    "MLPClassifier_performance_metrics = pd.DataFrame(MLPClassifier_performance_metrics, columns=['model','metric', 'value'])\n",
    "fpr, tpr, thresholds = roc_curve(y_test, MLPClassifier_predictions_prob_df[MLPClassifier_grid_search.classes_[1]],pos_label='2')\n",
    "roc_auc = auc(fpr, tpr)\n",
    "\n",
    "# ROC Curve plot\n",
    "MLPClassifier_roc_auc_plot, MLPClassifier_roc_auc_plot_ax = plt.subplots()\n",
    "MLPClassifier_roc_auc_plot_ax.plot(fpr, tpr, label=f'ROC curve (AUC = {roc_auc:.4f})')\n",
    "MLPClassifier_roc_auc_plot_ax.plot([0, 1], [0, 1], 'r--', label='Random guess')\n",
    "# Set axis labels and title\n",
    "MLPClassifier_roc_auc_plot_ax.set_xlabel('False Positive Rate')\n",
    "MLPClassifier_roc_auc_plot_ax.set_ylabel('True Positive Rate')\n",
    "MLPClassifier_roc_auc_plot_ax.set_title(f'MLPClassifier ROC Curve')\n",
    "# Add legend\n",
    "MLPClassifier_roc_auc_plot_ax.legend()\n",
    "\n",
    "\n",
    "print(MLPClassifier_performance_metrics[MLPClassifier_performance_metrics['metric'] == 'roc_auc_score'])\n",
    "model_comparison_list.append(MLPClassifier_performance_metrics)##### End of Model Pipeline for MLP #####\n",
    "##### Model Comparison #####\n",
    "table = pd.concat(model_comparison_list)\n",
    "table = table.sort_values(by=['value'], ascending=False)\n",
    "table = table[table['metric'] == 'roc_auc_score']\n",
    "print(table)\n",
    "print(f\"The best model is {table['model'].iloc[0]} with {table['value'].iloc[0]} as {table['metric'].iloc[0]}\")\n",
    "\n",
    "# Predict test data using the best model\n",
    "test_predictions = eval(table['model'].iloc[0]+\"_best_estimator\").predict(X_test)\n",
    "print('Predictions from best model are stored in test_predictions')\n"
   ]
  },
  {
   "cell_type": "code",
   "execution_count": null,
   "metadata": {},
   "outputs": [],
   "source": []
  }
 ],
 "metadata": {
  "kernelspec": {
   "display_name": "Python 3",
   "language": "python",
   "name": "python3"
  },
  "language_info": {
   "codemirror_mode": {
    "name": "ipython",
    "version": 3
   },
   "file_extension": ".py",
   "mimetype": "text/x-python",
   "name": "python",
   "nbconvert_exporter": "python",
   "pygments_lexer": "ipython3",
   "version": "3.9.8"
  }
 },
 "nbformat": 4,
 "nbformat_minor": 4
}
