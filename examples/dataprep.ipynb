{
 "cells": [
  {
   "cell_type": "markdown",
   "metadata": {},
   "source": [
    "Clone the respository"
   ]
  },
  {
   "cell_type": "code",
   "execution_count": 2,
   "metadata": {},
   "outputs": [],
   "source": [
    "!git clone https://github.com/Zerve-AI/pypelines.git"
   ]
  },
  {
   "cell_type": "markdown",
   "metadata": {},
   "source": [
    "Installing the pypeline"
   ]
  },
  {
   "cell_type": "code",
   "execution_count": 2,
   "metadata": {},
   "outputs": [],
   "source": [
    "import os\n",
    "folder = 'C:/zerve'\n",
    "os.chdir(f'{folder}/pypelines')"
   ]
  },
  {
   "cell_type": "code",
   "execution_count": 3,
   "metadata": {},
   "outputs": [
    {
     "name": "stdout",
     "output_type": "stream",
     "text": [
      "Processing c:\\zerve\\pypelines\n",
      "  Preparing metadata (setup.py): started\n",
      "  Preparing metadata (setup.py): finished with status 'done'\n",
      "Requirement already satisfied: scikit-learn in c:\\users\\umerk\\anaconda3\\envs\\canvas\\lib\\site-packages (from pypelines==0.1.0) (1.2.2)\n",
      "Requirement already satisfied: pandas in c:\\users\\umerk\\anaconda3\\envs\\canvas\\lib\\site-packages (from pypelines==0.1.0) (1.5.3)\n",
      "Requirement already satisfied: pyperclip in c:\\users\\umerk\\anaconda3\\envs\\canvas\\lib\\site-packages (from pypelines==0.1.0) (1.8.2)\n",
      "Requirement already satisfied: matplotlib in c:\\users\\umerk\\anaconda3\\envs\\canvas\\lib\\site-packages (from pypelines==0.1.0) (3.7.1)\n",
      "Requirement already satisfied: jinja2 in c:\\users\\umerk\\anaconda3\\envs\\canvas\\lib\\site-packages (from pypelines==0.1.0) (3.1.2)\n",
      "Requirement already satisfied: pydantic in c:\\users\\umerk\\anaconda3\\envs\\canvas\\lib\\site-packages (from pypelines==0.1.0) (1.10.7)\n",
      "Requirement already satisfied: pyod in c:\\users\\umerk\\anaconda3\\envs\\canvas\\lib\\site-packages (from pypelines==0.1.0) (1.0.9)\n",
      "Requirement already satisfied: suod in c:\\users\\umerk\\anaconda3\\envs\\canvas\\lib\\site-packages (from pypelines==0.1.0) (0.0.8)\n",
      "Requirement already satisfied: keras-self-attention in c:\\users\\umerk\\anaconda3\\envs\\canvas\\lib\\site-packages (from pypelines==0.1.0) (0.51.0)\n",
      "Requirement already satisfied: tsfresh==0.20.1 in c:\\users\\umerk\\anaconda3\\envs\\canvas\\lib\\site-packages (from pypelines==0.1.0) (0.20.1)\n"
     ]
    },
    {
     "name": "stderr",
     "output_type": "stream",
     "text": [
      "ERROR: Could not find a version that satisfies the requirement esig==0.9.8.3sktime (from pypelines) (from versions: 0.0.0, 0.6.6, 0.6.7, 0.6.8, 0.6.9, 0.6.10, 0.6.11, 0.6.12, 0.6.13, 0.6.22, 0.6.31, 0.7.1, 0.7.3, 0.7.4, 0.8.0, 0.8.1, 0.8.2, 0.9.0, 0.9.1, 0.9.4, 0.9.5, 0.9.6, 0.9.7, 0.9.8, 0.9.8.1, 0.9.8.2, 0.9.8.3)\n",
      "ERROR: No matching distribution found for esig==0.9.8.3sktime\n"
     ]
    }
   ],
   "source": [
    "!pip install ."
   ]
  },
  {
   "cell_type": "markdown",
   "metadata": {},
   "source": [
    "LIST OF DATAPREP METHODS"
   ]
  },
  {
   "cell_type": "code",
   "execution_count": 4,
   "metadata": {},
   "outputs": [
    {
     "data": {
      "text/plain": [
       "['LagFeatures', 'DatetimeFeatures', 'DatetimeSubtraction']"
      ]
     },
     "execution_count": 4,
     "metadata": {},
     "output_type": "execute_result"
    }
   ],
   "source": [
    "from pypelines import utils\n",
    "\n",
    "utils.list_supported_dataprepmethods(method_type='forecasting')"
   ]
  },
  {
   "cell_type": "markdown",
   "metadata": {},
   "source": [
    "Loading Library"
   ]
  },
  {
   "cell_type": "code",
   "execution_count": 5,
   "metadata": {},
   "outputs": [],
   "source": [
    "import pypelines.data_prep_pipeline as pipe\n",
    "import pandas as pd"
   ]
  },
  {
   "cell_type": "markdown",
   "metadata": {},
   "source": [
    "Data Load and Method Selection"
   ]
  },
  {
   "cell_type": "code",
   "execution_count": 7,
   "metadata": {},
   "outputs": [],
   "source": [
    "housing = pd.read_csv(\"pypelines/datasets/regression/housing.csv\")\n",
    "dataprep_pypelines_all = pipe.DataPrepPipeline(\n",
    "    data = housing, \n",
    "    target = 'population',\n",
    "    preprocessing_method = 'MatchVariables',\n",
    "    outlier_method = 'Winsorizer', \n",
    "    numerical_imputation_method = 'MeanMedianImputer', \n",
    "    categorical_imputation_method = 'CategoricalImputer', \n",
    "    encoding_method = 'RareLabelEncoder',\n",
    "    datetime_method = None,\n",
    "    target_date1_column = None,\n",
    "    target_date2_column = None,\n",
    "    discretisation_method = 'EqualFrequencyDiscretiser',\n",
    "    forecasting_method='LagFeatures')"
   ]
  },
  {
   "cell_type": "markdown",
   "metadata": {},
   "source": [
    "Data Preparation code generation"
   ]
  },
  {
   "cell_type": "code",
   "execution_count": 8,
   "metadata": {},
   "outputs": [],
   "source": [
    "dataprep_pypelines_all.code_to_clipboard()"
   ]
  },
  {
   "cell_type": "code",
   "execution_count": 9,
   "metadata": {},
   "outputs": [
    {
     "name": "stdout",
     "output_type": "stream",
     "text": [
      "Error in outlier: Some of the variables in the dataset contain NaN. Check and remove those before using this transformer.\n"
     ]
    },
    {
     "name": "stderr",
     "output_type": "stream",
     "text": [
      "c:\\Users\\umerk\\anaconda3\\envs\\canvas\\lib\\site-packages\\feature_engine\\encoding\\rare_label.py:216: UserWarning: The number of unique categories for variable ocean_proximity is less than that indicated in n_categories. Thus, all categories will be considered frequent\n",
      "  warnings.warn(\n"
     ]
    }
   ],
   "source": [
    "\n",
    "import numpy as np\n",
    "import pandas as pd\n",
    "from feature_engine.preprocessing import MatchVariables\n",
    "from feature_engine.outliers import Winsorizer\n",
    "from feature_engine.discretisation import EqualFrequencyDiscretiser\n",
    "from feature_engine.imputation import MeanMedianImputer\n",
    "from feature_engine.imputation import CategoricalImputer\n",
    "\n",
    "from feature_engine.encoding import RareLabelEncoder\n",
    "\n",
    "\n",
    "encode = RareLabelEncoder(tol=0.05, n_categories=10, max_n_categories=None, replace_with='Rare', variables=None, missing_values='raise', ignore_format=False)\n",
    "from feature_engine.timeseries.forecasting import LagFeatures\n",
    "\n",
    "# target dataframe: housing\n",
    "target = \"population\"\n",
    "features = list(housing.columns.drop(\"population\"))\n",
    "feature_df = housing[features]\n",
    "\n",
    "\n",
    "\n",
    "\n",
    "# Preprocessing\n",
    "try:\n",
    "    \n",
    "    process = MatchVariables(missing_values='raise', verbose=True)\n",
    "    housing = process.fit_transform(housing)\n",
    "\n",
    "    \n",
    "except Exception as e:\n",
    "    print(\"Error in outlier:\", str(e))\n",
    "\n",
    "\n",
    "\n",
    "\n",
    "# Handling Outliers\n",
    "try:\n",
    "    \n",
    "    out = Winsorizer(capping_method='gaussian', tail='right', fold=3, add_indicators=False, variables=None, missing_values='ignore')\n",
    "    housing = out.fit_transform(housing)\n",
    "    \n",
    "except Exception as e:\n",
    "    print(\"Error in outlier:\", str(e))\n",
    " \n",
    "\n",
    "\n",
    "# Missing Value Imputation\n",
    "\n",
    "# Identifying the missing columns and selecting only columns with less than 10% missing values\n",
    "edited_missing_columns = feature_df.columns[feature_df.isnull().mean() <= 0.1].tolist()\n",
    "\n",
    "if len(edited_missing_columns) != 0:\n",
    "    int_lst = housing[edited_missing_columns].select_dtypes(include=['int64', 'float64']).columns.tolist()\n",
    "    cat_lst = housing[edited_missing_columns].select_dtypes(include=['category','object']).columns.tolist()\n",
    "    try:\n",
    "        if len(int_lst) > 0:\n",
    "            \n",
    "            imputer = MeanMedianImputer(imputation_method='median', variables=int_lst)\n",
    "            housing_num = imputer.fit_transform(housing[int_lst])\n",
    "\n",
    "            \n",
    "    except Exception as e:\n",
    "        print(\"Error in integer imputation:\", str(e))\n",
    "\n",
    "    try:\n",
    "        if len(cat_lst) > 0:\n",
    "            \n",
    "            imputer = CategoricalImputer(imputation_method='missing',variables=cat_lst)\n",
    "            housing_cat = imputer.fit_transform(housing[cat_lst])\n",
    "\n",
    "            \n",
    "    except Exception as e:\n",
    "        print(\"Error in integer imputation:\", str(e))\n",
    "        \n",
    "feature_df = pd.concat([housing_num,housing_cat],axis=1)\n",
    "housing =  pd.concat([feature_df,housing[\"population\"]],axis=1)\n",
    "\n",
    "\n",
    "\n",
    "\n",
    "# Encoding Categorical Variables\n",
    "try:\n",
    "    \n",
    "    encode = RareLabelEncoder(tol=0.05, n_categories=10, max_n_categories=None, replace_with='Rare', variables=None, missing_values='raise', ignore_format=False)\n",
    "    housing = encode.fit_transform(housing)\n",
    "    \n",
    "except Exception as e:\n",
    "    print(\"Error in integer encoding:\", str(e))\n",
    "\n",
    "\n",
    "\n",
    "\n",
    "\n",
    "# Discretisation\n",
    "try:\n",
    "    \n",
    "    discret = EqualFrequencyDiscretiser(variables=None, q=10, return_object=False, return_boundaries=False, precision=3)\n",
    "    x = housing.drop(\"population\", axis=1)\n",
    "    x = discret.fit_transform(x)\n",
    "\n",
    "    \n",
    "except Exception as e:\n",
    "    print(\"Error in integer encoding:\", str(e))\n",
    "\n",
    "\n",
    "\n",
    "# Forecasting Features\n",
    "try:\n",
    "    \n",
    "    lf = LagFeatures(variables=None, periods=[1,2], freq=None, sort_index=True, missing_values='raise', drop_original=False)\n",
    "    x = lf.fit_transform(housing)\n",
    "\n",
    "\n",
    "    \n",
    "except Exception as e:\n",
    "    print(\"Error in integer forecast:\", str(e))\n",
    "\n",
    "##### End of Data Processing Pipeline #####\n",
    "\n"
   ]
  }
 ],
 "metadata": {
  "kernelspec": {
   "display_name": "Python 3",
   "language": "python",
   "name": "python3"
  },
  "language_info": {
   "codemirror_mode": {
    "name": "ipython",
    "version": 3
   },
   "file_extension": ".py",
   "mimetype": "text/x-python",
   "name": "python",
   "nbconvert_exporter": "python",
   "pygments_lexer": "ipython3",
   "version": "3.9.16"
  }
 },
 "nbformat": 4,
 "nbformat_minor": 4
}
