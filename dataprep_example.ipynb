{
 "cells": [
  {
   "cell_type": "code",
   "execution_count": 7,
   "metadata": {},
   "outputs": [],
   "source": [
    "import pandas as pd\n",
    "import pypelines.data_prep_pipeline as pipe\n"
   ]
  },
  {
   "cell_type": "code",
   "execution_count": 8,
   "metadata": {},
   "outputs": [],
   "source": [
    "housing = pd.read_csv(\"pypelines/datasets/regression/housing.csv\")\n",
    "reg_pypelines_all = pipe.DataPrepPipeline(data = housing, outlier_models= ['Winsorizer'], target = 'population', encoding_models= ['CountFrequencyEncoder'])\n",
    "\n",
    "reg_pypelines_all.code_to_clipboard()\n"
   ]
  },
  {
   "cell_type": "code",
   "execution_count": null,
   "metadata": {},
   "outputs": [],
   "source": [
    "\n",
    "import numpy as np\n",
    "import pandas as pd\n",
    "import matplotlib.pyplot as plt\n",
    "from sklearn.model_selection import train_test_split\n",
    "\n",
    "from feature_engine.imputation import MeanMedianImputer, CategoricalImputer, ArbitraryNumberImputer, EndTailImputer, RandomSampleImputer, AddMissingIndicator, DropMissingData\n",
    "from feature_engine.encoding import CountFrequencyEncoder\n",
    "\n",
    "\n",
    "encode = CountFrequencyEncoder()\n",
    "from feature_engine.outliers import Winsorizer\n",
    "\n",
    "\n",
    "out = Winsorizer(capping_method='mad', tail='both', fold=3)\n",
    "\n",
    "\n",
    "\n",
    "# MISSINING VALUE IMPUTATION\n",
    "\n",
    "# Identifying the missing columns and selecting only columns with less than 10% missing values\n",
    "edited_missing_columns = housing.columns[housing.isnull().mean() <= 0.1].tolist()\n",
    "\n",
    "if len(edited_missing_columns) != 0:\n",
    "    int_lst = housing[edited_missing_columns].select_dtypes(include=['int64', 'float64']).columns.tolist()\n",
    "    cat_lst = housing[edited_missing_columns].select_dtypes(include=['category']).columns.tolist()\n",
    "\n",
    "    if len(int_lst) > 0:\n",
    "        imputer = MeanMedianImputer(imputation_method='median', variables=int_lst)\n",
    "        housing[int_lst] = imputer.fit_transform(housing[int_lst])\n",
    "\n",
    "    if len(cat_lst) > 0:\n",
    "        imputer = CategoricalImputer(variables=cat_lst)\n",
    "        housing[cat_lst] = imputer.fit_transform(housing[cat_lst])\n",
    "\n",
    "housing = housing.dropna(axis=1)\n",
    "\n",
    "# HANDLING OUTLIERS\n",
    "housing = out.fit_transform(housing)\n",
    "\n",
    "# ENCODING CATEGORICAL VARIABLES\n",
    "if ['CountFrequencyEncoder'][0] not in [\"MeanEncoder\", \"WoEEncoder\", \"OrdinalEncoder\", \"DecisionTreeEncoder\"]:\n",
    "    housing = encode.fit_transform(housing)\n",
    "else:\n",
    "    x = housing.drop(columns=,axis=1)\n",
    "    y = housing[]\n",
    "    housing = encode.fit_transform(x,y)\n",
    "\n",
    "\n",
    "##### End of Data Processing Pipeline #####\n",
    "\n",
    "\n",
    "\n"
   ]
  }
 ],
 "metadata": {
  "kernelspec": {
   "display_name": "Python 3",
   "language": "python",
   "name": "python3"
  },
  "language_info": {
   "codemirror_mode": {
    "name": "ipython",
    "version": 3
   },
   "file_extension": ".py",
   "mimetype": "text/x-python",
   "name": "python",
   "nbconvert_exporter": "python",
   "pygments_lexer": "ipython3",
   "version": "3.9.16"
  }
 },
 "nbformat": 4,
 "nbformat_minor": 4
}
