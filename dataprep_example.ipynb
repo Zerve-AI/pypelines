{
 "cells": [
  {
   "cell_type": "code",
   "execution_count": 1,
   "metadata": {},
   "outputs": [],
   "source": [
    "import pandas as pd\n",
    "import pypelines.data_prep_pipeline as pipe"
   ]
  },
  {
   "cell_type": "code",
   "execution_count": 2,
   "metadata": {},
   "outputs": [],
   "source": [
    "housing = pd.read_csv(\"pypelines/datasets/regression/housing.csv\")\n",
    "reg_pypelines_all = pipe.DataPrepPipeline(data = housing, target = 'population', outlier_method = 'Winsorizer', numerical_imputation_methods = 'MeanMedianImputer', categorical_imputation_methods = 'CategoricalImputer', encoding_method = 'RareLabelEncoder', discretisation_method = 'EqualFrequencyDiscretiser')"
   ]
  },
  {
   "cell_type": "code",
   "execution_count": 3,
   "metadata": {},
   "outputs": [],
   "source": [
    "reg_pypelines_all.code_to_clipboard()"
   ]
  },
  {
   "cell_type": "code",
   "execution_count": 4,
   "metadata": {},
   "outputs": [
    {
     "name": "stderr",
     "output_type": "stream",
     "text": [
      "c:\\Users\\umerk\\anaconda3\\envs\\canvas\\lib\\site-packages\\feature_engine\\encoding\\rare_label.py:216: UserWarning: The number of unique categories for variable ocean_proximity is less than that indicated in n_categories. Thus, all categories will be considered frequent\n",
      "  warnings.warn(\n"
     ]
    }
   ],
   "source": [
    "\n",
    "import numpy as np\n",
    "import pandas as pd\n",
    "import matplotlib.pyplot as plt\n",
    "from sklearn.model_selection import train_test_split\n",
    "from feature_engine.imputation import MeanMedianImputer, CategoricalImputer, ArbitraryNumberImputer, EndTailImputer, RandomSampleImputer, AddMissingIndicator, DropMissingData\n",
    "from feature_engine.encoding import CountFrequencyEncoder\n",
    "\n",
    "from feature_engine.outliers import Winsorizer\n",
    "from feature_engine.discretisation import EqualFrequencyDiscretiser\n",
    "from feature_engine.imputation import MeanMedianImputer\n",
    "from feature_engine.imputation import CategoricalImputer\n",
    "from feature_engine.encoding import RareLabelEncoder\n",
    "\n",
    "\n",
    "encode = RareLabelEncoder(tol=0.05, n_categories=10, max_n_categories=None, replace_with='Rare', variables=None, missing_values='raise', ignore_format=False)\n",
    "\n",
    "\n",
    "# target dataframe: housing\n",
    "target = \"population\"\n",
    "features = list(housing.columns.drop(\"population\"))\n",
    "feature_df = housing[features]\n",
    "\n",
    "\n",
    "# Handling Outliers\n",
    "try:\n",
    "    \n",
    "    out = Winsorizer(capping_method='gaussian', tail='right', fold=3, add_indicators=False, variables=None, missing_values='ignore')\n",
    "    housing = out.fit_transform(housing)\n",
    "    \n",
    "except Exception as e:\n",
    "    print(\"Error in outlier:\", str(e))\n",
    " \n",
    "\n",
    "\n",
    "# Missing Value Imputation\n",
    "\n",
    "# Identifying the missing columns and selecting only columns with less than 10% missing values\n",
    "edited_missing_columns = feature_df.columns[feature_df.isnull().mean() <= 0.1].tolist()\n",
    "\n",
    "if len(edited_missing_columns) != 0:\n",
    "    int_lst = housing[edited_missing_columns].select_dtypes(include=['int64', 'float64']).columns.tolist()\n",
    "    cat_lst = housing[edited_missing_columns].select_dtypes(include=['category','object']).columns.tolist()\n",
    "    try:\n",
    "        if len(int_lst) > 0:\n",
    "            \n",
    "            imputer = MeanMedianImputer(imputation_method='median', variables=int_lst)\n",
    "            housing_num = imputer.fit_transform(housing[int_lst])\n",
    "\n",
    "            \n",
    "    except Exception as e:\n",
    "        print(\"Error in integer imputation:\", str(e))\n",
    "\n",
    "    try:\n",
    "        if len(cat_lst) > 0:\n",
    "            \n",
    "            imputer = CategoricalImputer(imputation_method='missing',variables=cat_lst)\n",
    "            housing_cat = imputer.fit_transform(housing[cat_lst])\n",
    "\n",
    "            \n",
    "    except Exception as e:\n",
    "        print(\"Error in integer imputation:\", str(e))\n",
    "else:\n",
    "    pass\n",
    "        \n",
    "feature_df = pd.concat([housing_num,housing_cat],axis=1)\n",
    "housing =  pd.concat([feature_df,housing[\"population\"]],axis=1)\n",
    "\n",
    "\n",
    "\n",
    "\n",
    "# Encoding Categorical Variables\n",
    "try:\n",
    "    \n",
    "    encode = RareLabelEncoder(tol=0.05, n_categories=10, max_n_categories=None, replace_with='Rare', variables=None, missing_values='raise', ignore_format=False)\n",
    "    housing = encode.fit_transform(housing)\n",
    "    \n",
    "except Exception as e:\n",
    "    print(\"Error in integer encoding:\", str(e))\n",
    "\n",
    "\n",
    "\n",
    "# Discretisation\n",
    "try:\n",
    "    \n",
    "    discret = EqualFrequencyDiscretiser(variables=None, q=10, return_object=False, return_boundaries=False, precision=3)\n",
    "    x = housing.drop(\"population\", axis=1)\n",
    "    x = discret.fit_transform(x)\n",
    "\n",
    "    \n",
    "except Exception as e:\n",
    "    print(\"Error in integer encoding:\", str(e))\n",
    "\n",
    "##### End of Data Processing Pipeline #####\n",
    "\n"
   ]
  }
 ],
 "metadata": {
  "kernelspec": {
   "display_name": "Python 3",
   "language": "python",
   "name": "python3"
  },
  "language_info": {
   "codemirror_mode": {
    "name": "ipython",
    "version": 3
   },
   "file_extension": ".py",
   "mimetype": "text/x-python",
   "name": "python",
   "nbconvert_exporter": "python",
   "pygments_lexer": "ipython3",
   "version": "3.9.16"
  }
 },
 "nbformat": 4,
 "nbformat_minor": 4
}
