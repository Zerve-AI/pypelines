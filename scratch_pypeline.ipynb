{
 "cells": [
  {
   "cell_type": "code",
   "execution_count": 1,
   "metadata": {},
   "outputs": [
    {
     "name": "stdout",
     "output_type": "stream",
     "text": [
      "{'dataset': 'train.csv', 'target_column': 'target', 'model_type': 'regression', 'cross_validation': 5, 'selected_models': ['Bayesian Ridge Regression'], 'completed_models': [], 'classification': {'Logistic Regression': {'numerical': [{'checked': True, 'name': 'C', 'min': 0.1, 'max': 1, 'step': 0.1}], 'categorical': [{'checked': True, 'name': 'penalty', 'selected': ['l2'], 'values': ['l2', 'elasticnet', 'none']}]}, 'Random Forest': {'numerical': [{'checked': True, 'name': 'n_estimators', 'min': 10, 'max': 100, 'step': 20}, {'checked': True, 'name': 'max_depth', 'min': 2, 'max': 10, 'step': 2}, {'checked': True, 'name': 'min_samples_split', 'min': 0.5, 'max': 1, 'step': 0.1}, {'checked': True, 'name': 'min_samples_leaf', 'min': 1, 'max': 10, 'step': 2}], 'categorical': [{'checked': True, 'name': 'criterion', 'selected': ['gini'], 'values': ['gini', 'entropy']}, {'checked': True, 'name': 'max_features', 'selected': ['auto'], 'values': ['auto', 'sqrt', 'log2']}, {'checked': True, 'name': 'bootstrap', 'selected': [True], 'values': [True, False]}, {'checked': False, 'name': 'oob_score', 'selected': [], 'values': [True, False]}, {'checked': False, 'name': 'warm_start', 'selected': [], 'values': [True, False]}, {'checked': False, 'name': 'class_weight', 'selected': [], 'values': ['balanced', 'balanced_subsample']}]}, 'SVC': {'numerical': [{'checked': True, 'name': 'C', 'min': 0.1, 'max': 1, 'step': 0.1}, {'checked': True, 'name': 'degree', 'min': 2, 'max': 5, 'step': 1}], 'categorical': [{'checked': True, 'name': 'kernel', 'selected': ['linear', 'poly'], 'values': ['linear', 'rbf', 'sigmoid']}, {'checked': False, 'name': 'gamma', 'selected': [], 'values': ['scale', 'auto']}]}, 'MLP': {'numerical': [{'checked': True, 'name': 'hidden_layer_sizes', 'min': 10, 'max': 100, 'step': 10}, {'checked': True, 'name': 'batch_size', 'min': 64, 'max': 512, 'step': 128}, {'checked': True, 'name': 'learning_rate', 'min': 0.001, 'max': 0.1, 'step': 0.05}], 'categorical': [{'checked': True, 'name': 'learning_rate_init', 'selected': ['constant', 'adaptive'], 'value': ['constant', 'invscaling', 'adaptive']}, {'checked': True, 'name': 'solver', 'selected': ['adam'], 'value': ['lbfgs', 'sgd', 'adam']}, {'checked': True, 'name': 'activation', 'selected': ['relu', 'tanh'], 'value': ['relu', 'identity', 'logistic', 'tanh']}, {'checked': True, 'name': 'shuffle', 'selected': [True], 'value': [True, False]}]}, 'Ridge Classifier': {'numerical': [{'checked': True, 'name': 'alpha', 'min': 10, 'max': 100, 'step': 10}, {'checked': True, 'name': 'max_iter', 'min': 100, 'max': 1000, 'step': 100}], 'categorical': [{'checked': True, 'name': 'fit_intercept', 'selected': [True], 'values': [True, False]}, {'checked': True, 'name': 'positive', 'selected': [True], 'values': [True, False]}]}}, 'regression': {'Elastic Net': {'numerical': [{'checked': True, 'name': 'alpha', 'min': 0.1, 'max': 1, 'step': 0.5}, {'checked': True, 'name': 'l1_ratio', 'min': 0.0, 'max': 1.0, 'step': 0.1}, {'checked': True, 'name': 'max_iter', 'min': 500, 'max': 1000, 'step': 100}], 'categorical': [{'checked': True, 'name': 'fit_intercept', 'selected': [True], 'values': [True, False]}, {'checked': True, 'name': 'precompute', 'selected': [False], 'values': [True, False]}, {'checked': True, 'name': 'selection', 'selected': ['cyclic'], 'values': ['cyclic', 'random']}]}, 'Linear Regression': {'numerical': [{'checked': True, 'name': 'n_jobs', 'min': 1, 'max': 10, 'step': 1}], 'categorical': [{'checked': True, 'name': 'fit_intercept', 'selected': [True], 'values': [True, False]}, {'checked': False, 'name': 'normalize', 'selected': [True], 'values': [True, False]}]}, 'Lasso': {'numerical': [{'checked': True, 'name': 'alpha', 'min': 10, 'max': 100, 'step': 10}, {'checked': True, 'name': 'max_iter', 'min': 100, 'max': 1000, 'step': 100}], 'categorical': [{'checked': True, 'name': 'fit_intercept', 'selected': [True], 'values': [True, False]}, {'checked': True, 'name': 'precompute', 'selected': [False], 'values': [True, False]}, {'checked': True, 'name': 'positive', 'selected': [True], 'values': [True, False]}, {'checked': True, 'name': 'selection', 'selected': ['cyclic'], 'values': ['cyclic', 'random']}]}, 'Ridge': {'numerical': [{'checked': True, 'name': 'alpha', 'min': 10, 'max': 100, 'step': 10}, {'checked': True, 'name': 'max_iter', 'min': 100, 'max': 1000, 'step': 100}], 'categorical': [{'checked': True, 'name': 'fit_intercept', 'selected': [True], 'values': [True, False]}, {'checked': True, 'name': 'positive', 'selected': [True], 'values': [True, False]}]}, 'SGD Regressor Regression': {'numerical': [{'checked': True, 'name': 'alpha', 'min': 0.1, 'max': 1, 'step': 0.5}, {'checked': True, 'name': 'l1_ratio', 'min': 0.0, 'max': 1.0, 'step': 0.1}, {'checked': True, 'name': 'max_iter', 'min': 500, 'max': 1000, 'step': 500}, {'checked': True, 'name': 'epsilon', 'min': 0.001, 'max': 0.1, 'step': 0.05}], 'categorical': [{'checked': True, 'name': 'fit_intercept', 'selected': [True], 'values': [True, False]}, {'checked': True, 'name': 'early_stopping', 'selected': [False], 'values': [True, False]}, {'checked': True, 'name': 'warm_start', 'selected': [False], 'values': [True, False]}, {'checked': True, 'name': 'shuffle', 'selected': [True], 'values': [True, False]}]}, 'Histogram Gradient Boost Regression': {'numerical': [{'checked': True, 'name': 'max_iter', 'min': 10, 'max': 100, 'step': 5}, {'checked': True, 'name': 'max_leaf_nodes', 'min': 2, 'max': 31, 'step': 6}, {'checked': True, 'name': 'min_samples_leaf', 'min': 2, 'max': 20, 'step': 5}, {'checked': True, 'name': 'max_bins', 'min': 25, 'max': 255, 'step': 25}], 'categorical': [{'checked': True, 'name': 'early_stopping', 'selected': [False], 'values': ['auto', True, False]}, {'checked': True, 'name': 'warm_start', 'selected': [False], 'values': [True, False]}]}, 'Random Forest Regression': {'numerical': [{'checked': True, 'name': 'n_estimators', 'min': 10, 'max': 100, 'step': 5}], 'categorical': [{'checked': True, 'name': 'bootstrap', 'selected': [True], 'values': [True, False]}, {'checked': True, 'name': 'warm_start', 'selected': [False], 'values': [True, False]}]}, 'AdaBoost Regression': {'numerical': [{'checked': True, 'name': 'n_estimators', 'min': 10, 'max': 50, 'step': 10}], 'categorical': [{'checked': True, 'name': 'loss', 'selected': ['linear'], 'values': ['linear', 'square', 'exponential']}]}, 'Poisson Regression': {'numerical': [{'checked': True, 'name': 'alpha', 'min': 0.1, 'max': 1, 'step': 0.005}, {'checked': True, 'name': 'max_iter', 'min': 100, 'max': 1000, 'step': 100}], 'categorical': [{'checked': True, 'name': 'fit_intercept', 'selected': [True], 'values': [True, False]}, {'checked': True, 'name': 'solver', 'selected': ['lbfgs'], 'values': ['lbfgs', 'newton-cholesky']}, {'checked': True, 'name': 'warm_start', 'selected': [True], 'values': [True, False]}]}, 'Decision Tree Regression': {'numerical': [{'checked': True, 'name': 'max_depth', 'min': 1, 'max': 100, 'step': 10}], 'categorical': [{'checked': True, 'name': 'max_features', 'selected': [None], 'values': ['auto', 'sqrt', 'log2']}, {'checked': True, 'name': 'splitter', 'selected': ['best'], 'values': ['best', 'random']}]}, 'GBT Regression': {'numerical': [{'checked': True, 'name': 'n_estimators', 'min': 1, 'max': 100, 'step': 10}, {'checked': True, 'name': 'max_depth', 'min': 1, 'max': 3, 'step': 1}, {'checked': True, 'name': 'alpha', 'min': 0.1, 'max': 1, 'step': 0.5}], 'categorical': [{'checked': True, 'name': 'max_features', 'selected': [None], 'values': ['auto', 'sqrt', 'log2']}, {'checked': True, 'name': 'warm_start', 'selected': [False], 'values': [True, False]}]}, 'ExtraTree Regression': {'numerical': [{'checked': True, 'name': 'n_estimators', 'min': 10, 'max': 100, 'step': 10}], 'categorical': [{'checked': True, 'name': 'max_features', 'selected': [None], 'values': ['auto', 'sqrt', 'log2']}, {'checked': True, 'name': 'warm_start', 'selected': [False], 'values': [True, False]}, {'checked': True, 'name': 'bootstrap', 'selected': [False], 'values': [True, False]}]}, 'GPR Regression': {'numerical': [{'checked': True, 'name': 'alpha', 'min': 1e-10, 'max': 1e-10, 'step': 1e-10}], 'categorical': [{'checked': True, 'name': 'optimizer', 'selected': [None], 'values': [None, 'fmin_l_bfgs_b']}, {'checked': True, 'name': 'normalize_y', 'selected': [False], 'values': [True, False]}, {'checked': True, 'name': 'copy_X_train', 'selected': [True], 'values': [True, False]}]}, 'Bayesian ARD Regression': {'numerical': [{'checked': True, 'name': 'n_iter', 'min': 10, 'max': 300, 'step': 50}], 'categorical': [{'checked': True, 'name': 'fit_intercept', 'selected': [True], 'values': [True, False]}, {'checked': True, 'name': 'compute_score', 'selected': [False], 'values': [True, False]}]}, 'Bayesian Ridge Regression': {'numerical': [{'checked': True, 'name': 'n_iter', 'min': 10, 'max': 300, 'step': 50}], 'categorical': [{'checked': True, 'name': 'fit_intercept', 'selected': [True], 'values': [True, False]}, {'checked': True, 'name': 'compute_score', 'selected': [False], 'values': [True, False]}]}}}\n"
     ]
    }
   ],
   "source": [
    "import os\n",
    "import json\n",
    "from pypelines.sklearn_pypeline import SklearnPipeline\n",
    "from default_content import default_content\n",
    "\n",
    "config = default_content = default_content(5)\n",
    "\n",
    "config = json.loads(config) \n",
    "\n",
    "#settings = SklearnPipeline().get_settings(config)\n",
    "\n",
    "\n",
    "print(config)\n"
   ]
  },
  {
   "cell_type": "code",
   "execution_count": 2,
   "metadata": {},
   "outputs": [
    {
     "name": "stdout",
     "output_type": "stream",
     "text": [
      "{}\n",
      "{'prefix': 'bayesian_ridge_regression.py', 'model': 'BayesianRidge()', 'imports': 'from sklearn.linear_model import BayesianRidge \\nfrom sklearn.metrics import mean_squared_error,make_scorer,r2_score,explained_variance_score\\nimport plotly.express as px\\nimport plotly.graph_objects as go', 'model_type': 'Regression'}\n",
      "{'prefix': 'bayesian_ridge_regression.py', 'model': 'BayesianRidge()', 'imports': 'from sklearn.linear_model import BayesianRidge \\nfrom sklearn.metrics import mean_squared_error,make_scorer,r2_score,explained_variance_score\\nimport plotly.express as px\\nimport plotly.graph_objects as go', 'model_type': 'Regression'}\n",
      "{'prefix': 'bayesian_ridge_regression', 'model': 'BayesianRidge()', 'imports': 'from sklearn.linear_model import BayesianRidge \\nfrom sklearn.metrics import mean_squared_error,make_scorer,r2_score,explained_variance_score\\nimport plotly.express as px\\nimport plotly.graph_objects as go', 'model_type': 'Regression'}\n"
     ]
    }
   ],
   "source": [
    "\n",
    "blocks, edges, requirements, imports  = SklearnPipeline().run(config)"
   ]
  },
  {
   "cell_type": "code",
   "execution_count": 3,
   "metadata": {},
   "outputs": [
    {
     "data": {
      "text/plain": [
       "[{'content': '\\n\\n# target dataframe: train.csv\\ntarget = \"target\"\\nfeatures = list(train.csv.columns.drop(\"target\"))\\nfeature_df = train.csv[features]\\n\\n# get numerical and categorical columns\\nbool_cols = feature_df.select_dtypes(include=[\\'bool\\']).columns.tolist()\\ntrain.csv[bool_cols] = feature_df[bool_cols].astype(int)\\nnumerical_cols = feature_df.select_dtypes(include=[\\'int\\', \\'float\\']).columns.tolist()\\ncategorical_cols = feature_df.select_dtypes(include=[\\'object\\']).columns.tolist()\\ntext_cols = feature_df.select_dtypes(include=[\\'string\\']).columns.tolist()\\n# check categorical columns for high cardinality\\n\\nsample_size = np.min([10000, train.csv.shape[0]])\\nunique_theshold = np.min([100, sample_size/10])\\n\\n# check categorical columns for high cardinality\\nfor col in categorical_cols:\\n    if train.csv[col].sample(sample_size).nunique() > unique_theshold:\\n        categorical_cols.remove(col)\\n\\n# check text columns for low cardinality\\nfor col in text_cols:\\n    if train.csv[col].sample(sample_size).nunique() < unique_theshold:\\n        categorical_cols.append(col)\\n        text_cols.remove(col)\\n\\n# define numeric transformer steps\\nnumeric_transformer = Pipeline(\\n    steps=[\\n        (\"imputer\", SimpleImputer(strategy=\"median\")), \\n        (\"scaler\", StandardScaler())]\\n)\\n\\n# define categorical transformer steps\\ncategorical_transformer = Pipeline(\\n    steps=[\\n        (\"encoder\", OneHotEncoder(handle_unknown=\"ignore\"))\\n    ]\\n)\\n\\n# define text transformer steps\\ntext_transformer = Pipeline(\\n    steps=[\\n        (\\'text\\', TfidfVectorizer())\\n    ]\\n)\\n\\n# create the preprocessing pipelines for both numeric and categorical data\\npreprocessor = ColumnTransformer(\\n    transformers=[\\n        (\\'num\\', numeric_transformer , numerical_cols),\\n        (\\'cat\\', categorical_transformer, categorical_cols),\\n        (\\'text\\', text_transformer, text_cols),\\n    ]\\n)\\n\\n# train test split\\nX = train.csv[features]\\ny = train.csv[target]\\nX_train, X_test, y_train, y_test = train_test_split(X, y, test_size=0.2, random_state=42)',\n",
       "  'id': 1},\n",
       " {'content': '\\nfrom sklearn.linear_model import BayesianRidge \\nfrom sklearn.metrics import mean_squared_error,make_scorer,r2_score,explained_variance_score\\nimport plotly.express as px\\nimport plotly.graph_objects as go\\nbayesian_ridge_regression.py_param_grid = {\\n\"bayesian_ridge_regression.py__n_iter\": np.arange(10, 300, 50),\\n\"bayesian_ridge_regression.py__fit_intercept\": [True],\\n\"bayesian_ridge_regression.py__compute_score\": [False],\\n}\\n\\n\\n# Create the pipeline\\nbayesian_ridge_regression.py_pipe = Pipeline([\\n    (\\'preprocessor\\', preprocessor),\\n    (\\'bayesian_ridge_regression.py\\', BayesianRidge())\\n])\\n\\n# Create the grid search\\nbayesian_ridge_regression.py_grid_search = GridSearchCV(estimator=bayesian_ridge_regression.py_pipe, param_grid=bayesian_ridge_regression.py_param_grid, cv=5, scoring=make_scorer(mean_squared_error), verbose=1)\\nbayesian_ridge_regression.py_grid_search.fit(X_train, y_train)\\n\\n# Get the best hyperparameters\\nbayesian_ridge_regression.py_best_estimator = bayesian_ridge_regression.py_grid_search.best_estimator_\\n\\n# Store results as a dataframe  \\nbayesian_ridge_regression.py_search_results = pd.DataFrame(bayesian_ridge_regression.py_grid_search.cv_results_)\\n\\n',\n",
       "  'id': 2},\n",
       " {'content': '# Model metrics\\n\\nbayesian_ridge_regression.py_predictions = pd.DataFrame(bayesian_ridge_regression.py_best_estimator.predict(X_test))\\nbayesian_ridge_regression.py_r2_score = r2_score(y_test.iloc[:,0], bayesian_ridge_regression.py_predictions.iloc[:,0])\\nbayesian_ridge_regression.py_mean_squared_error = mean_squared_error(y_test.iloc[:,0], bayesian_ridge_regression.py_predictions.iloc[:,0])\\nbayesian_ridge_regression.py_explained_variance_score = explained_variance_score(y_test.iloc[:,0], bayesian_ridge_regression.py_predictions.iloc[:,0])\\nbayesian_ridge_regression.py_performance_metrics = [[\\'bayesian_ridge_regression.py\\',\\'r2_score\\', bayesian_ridge_regression.py_r2_score], \\n                                  [\\'bayesian_ridge_regression.py\\',\\'mean_squared_error\\',bayesian_ridge_regression.py_mean_squared_error],\\n                                  [\\'bayesian_ridge_regression.py\\',\\'explained_variance_score\\', bayesian_ridge_regression.py_explained_variance_score]]\\nbayesian_ridge_regression.py_performance_metrics = pd.DataFrame(bayesian_ridge_regression.py_performance_metrics, columns=[\\'model\\',\\'metric\\', \\'value\\'])\\nbayesian_ridge_regression.py_actual_predicted_plot = px.scatter(x=y_test.iloc[:,0], y=bayesian_ridge_regression.py_predictions.iloc[:,0])\\nbayesian_ridge_regression.py_actual_predicted_plot.add_shape(type=\"line\", line=dict(dash=\\'dash\\'),x0=y.min(), y0=y.min(), x1=y.max(), y1=y.max())\\nbayesian_ridge_regression.py_actual_predicted_plot.update_layout(title=\"Actual vs Predicted\",xaxis_title=\"Actual\",yaxis_title=\"Predicted\")\\ndel df, target, features, feature_df, bool_cols, numerical_cols, categorical_cols, text_cols, col, numeric_transformer, categorical_transformer,text_transformer, preprocessor,X, X_train, X_test, y, y_train, y_test,mean_squared_error,make_scorer,r2_score,explained_variance_score\\n\\n\\n',\n",
       "  'id': 3},\n",
       " {'content': '\\n#comparison metrics - bayesian_ridge_regression\\n\\nbayesian_ridge_regression_performance_metrics\\nbayesian_ridge_regression_actual_predicted_plot.show()\\n',\n",
       "  'id': 4}]"
      ]
     },
     "execution_count": 3,
     "metadata": {},
     "output_type": "execute_result"
    }
   ],
   "source": [
    "blocks"
   ]
  },
  {
   "cell_type": "code",
   "execution_count": 4,
   "metadata": {},
   "outputs": [
    {
     "name": "stdout",
     "output_type": "stream",
     "text": [
      "# Model metrics\n",
      "\n",
      "bayesian_ridge_regression.py_predictions = pd.DataFrame(bayesian_ridge_regression.py_best_estimator.predict(X_test))\n",
      "bayesian_ridge_regression.py_r2_score = r2_score(y_test.iloc[:,0], bayesian_ridge_regression.py_predictions.iloc[:,0])\n",
      "bayesian_ridge_regression.py_mean_squared_error = mean_squared_error(y_test.iloc[:,0], bayesian_ridge_regression.py_predictions.iloc[:,0])\n",
      "bayesian_ridge_regression.py_explained_variance_score = explained_variance_score(y_test.iloc[:,0], bayesian_ridge_regression.py_predictions.iloc[:,0])\n",
      "bayesian_ridge_regression.py_performance_metrics = [['bayesian_ridge_regression.py','r2_score', bayesian_ridge_regression.py_r2_score], \n",
      "                                  ['bayesian_ridge_regression.py','mean_squared_error',bayesian_ridge_regression.py_mean_squared_error],\n",
      "                                  ['bayesian_ridge_regression.py','explained_variance_score', bayesian_ridge_regression.py_explained_variance_score]]\n",
      "bayesian_ridge_regression.py_performance_metrics = pd.DataFrame(bayesian_ridge_regression.py_performance_metrics, columns=['model','metric', 'value'])\n",
      "bayesian_ridge_regression.py_actual_predicted_plot = px.scatter(x=y_test.iloc[:,0], y=bayesian_ridge_regression.py_predictions.iloc[:,0])\n",
      "bayesian_ridge_regression.py_actual_predicted_plot.add_shape(type=\"line\", line=dict(dash='dash'),x0=y.min(), y0=y.min(), x1=y.max(), y1=y.max())\n",
      "bayesian_ridge_regression.py_actual_predicted_plot.update_layout(title=\"Actual vs Predicted\",xaxis_title=\"Actual\",yaxis_title=\"Predicted\")\n",
      "del df, target, features, feature_df, bool_cols, numerical_cols, categorical_cols, text_cols, col, numeric_transformer, categorical_transformer,text_transformer, preprocessor,X, X_train, X_test, y, y_train, y_test,mean_squared_error,make_scorer,r2_score,explained_variance_score\n",
      "\n",
      "\n",
      "\n"
     ]
    }
   ],
   "source": [
    "print(blocks[2]['content'])"
   ]
  }
 ],
 "metadata": {
  "kernelspec": {
   "display_name": "Python 3",
   "language": "python",
   "name": "python3"
  },
  "language_info": {
   "codemirror_mode": {
    "name": "ipython",
    "version": 3
   },
   "file_extension": ".py",
   "mimetype": "text/x-python",
   "name": "python",
   "nbconvert_exporter": "python",
   "pygments_lexer": "ipython3",
   "version": "3.9.16"
  },
  "orig_nbformat": 4
 },
 "nbformat": 4,
 "nbformat_minor": 2
}
